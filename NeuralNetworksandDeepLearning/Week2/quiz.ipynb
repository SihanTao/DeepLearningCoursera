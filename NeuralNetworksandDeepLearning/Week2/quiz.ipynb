{
 "cells": [
  {
   "cell_type": "code",
   "execution_count": 3,
   "id": "90a9aff2",
   "metadata": {},
   "outputs": [],
   "source": [
    "import numpy as np"
   ]
  },
  {
   "cell_type": "code",
   "execution_count": 4,
   "id": "98f17308",
   "metadata": {},
   "outputs": [
    {
     "name": "stderr",
     "output_type": "stream",
     "text": [
      "C:\\Users\\Sihan Tao\\AppData\\Local\\Temp\\ipykernel_25624\\3232406275.py:2: RuntimeWarning: divide by zero encountered in log\n",
      "  return -(y_hat * np.log(y) + (1 - y_hat) * np.log(1 - y))\n"
     ]
    },
    {
     "data": {
      "text/plain": [
       "inf"
      ]
     },
     "execution_count": 4,
     "metadata": {},
     "output_type": "execute_result"
    }
   ],
   "source": [
    "def logisticLoss(y_hat, y):\n",
    "    return -(y_hat * np.log(y) + (1 - y_hat) * np.log(1 - y))\n",
    "\n",
    "logisticLoss(0.9, 1)"
   ]
  },
  {
   "cell_type": "code",
   "execution_count": 14,
   "id": "f141ee8d",
   "metadata": {},
   "outputs": [
    {
     "data": {
      "text/plain": [
       "(2, 2, 2)"
      ]
     },
     "execution_count": 14,
     "metadata": {},
     "output_type": "execute_result"
    }
   ],
   "source": [
    "x = np.random.rand(8, 1)\n",
    "y = x.reshape(2, 2, 2)\n",
    "y\n",
    "y.shape"
   ]
  },
  {
   "cell_type": "code",
   "execution_count": 10,
   "id": "dd812454",
   "metadata": {},
   "outputs": [
    {
     "ename": "ValueError",
     "evalue": "operands could not be broadcast together with shapes (3,3) (2,1) ",
     "output_type": "error",
     "traceback": [
      "\u001b[1;31m---------------------------------------------------------------------------\u001b[0m",
      "\u001b[1;31mValueError\u001b[0m                                Traceback (most recent call last)",
      "\u001b[1;32md:\\Users\\Sihan Tao\\Documents\\GitHub\\DeepLearningCoursera\\NeuralNetworksandDeepLearning\\Week2\\quiz.ipynb Cell 4\u001b[0m in \u001b[0;36m<cell line: 3>\u001b[1;34m()\u001b[0m\n\u001b[0;32m      <a href='vscode-notebook-cell:/d%3A/Users/Sihan%20Tao/Documents/GitHub/DeepLearningCoursera/NeuralNetworksandDeepLearning/Week2/quiz.ipynb#ch0000003?line=0'>1</a>\u001b[0m a \u001b[39m=\u001b[39m np\u001b[39m.\u001b[39mrandom\u001b[39m.\u001b[39mrandn(\u001b[39m3\u001b[39m, \u001b[39m3\u001b[39m)\n\u001b[0;32m      <a href='vscode-notebook-cell:/d%3A/Users/Sihan%20Tao/Documents/GitHub/DeepLearningCoursera/NeuralNetworksandDeepLearning/Week2/quiz.ipynb#ch0000003?line=1'>2</a>\u001b[0m b \u001b[39m=\u001b[39m np\u001b[39m.\u001b[39mrandom\u001b[39m.\u001b[39mrand(\u001b[39m2\u001b[39m, \u001b[39m1\u001b[39m)\n\u001b[1;32m----> <a href='vscode-notebook-cell:/d%3A/Users/Sihan%20Tao/Documents/GitHub/DeepLearningCoursera/NeuralNetworksandDeepLearning/Week2/quiz.ipynb#ch0000003?line=2'>3</a>\u001b[0m a \u001b[39m+\u001b[39;49m b\n",
      "\u001b[1;31mValueError\u001b[0m: operands could not be broadcast together with shapes (3,3) (2,1) "
     ]
    }
   ],
   "source": [
    "a = np.random.randn(3, 3)\n",
    "b = np.random.rand(2, 1)\n",
    "a + b"
   ]
  },
  {
   "cell_type": "code",
   "execution_count": 11,
   "id": "1347571b",
   "metadata": {},
   "outputs": [
    {
     "data": {
      "text/plain": [
       "(2, 2, 1)"
      ]
     },
     "execution_count": 11,
     "metadata": {},
     "output_type": "execute_result"
    }
   ],
   "source": [
    "x=np.array([[[1],[2]],[[3],[4]]])\n",
    "x.shape"
   ]
  },
  {
   "cell_type": "code",
   "execution_count": 17,
   "id": "07f196cb",
   "metadata": {},
   "outputs": [],
   "source": [
    "a=np.random.randn(4,3)\n",
    "\n",
    "b = np.random.randn(3, 2)\n",
    "\n",
    "c = np.dot(a, b)"
   ]
  },
  {
   "cell_type": "code",
   "execution_count": 18,
   "id": "596eea83",
   "metadata": {},
   "outputs": [
    {
     "data": {
      "text/plain": [
       "array([[4, 1],\n",
       "       [1, 9]])"
      ]
     },
     "execution_count": 18,
     "metadata": {},
     "output_type": "execute_result"
    }
   ],
   "source": [
    "a = np.array([[2, 1], [1, 3]])\n",
    "a * a"
   ]
  },
  {
   "cell_type": "code",
   "execution_count": 26,
   "id": "f934498e",
   "metadata": {},
   "outputs": [
    {
     "data": {
      "text/plain": [
       "array([[ 0.45887228,  0.47117102, -2.06179245],\n",
       "       [ 1.12700624, -1.01040045,  0.01599995],\n",
       "       [ 1.41000914, -0.35558369,  0.40257108]])"
      ]
     },
     "execution_count": 26,
     "metadata": {},
     "output_type": "execute_result"
    }
   ],
   "source": [
    "a = np.random.randn(3, 3)\n",
    "a"
   ]
  },
  {
   "cell_type": "code",
   "execution_count": 27,
   "id": "8722729e",
   "metadata": {},
   "outputs": [
    {
     "data": {
      "text/plain": [
       "array([[2.10563771e-01, 2.22002129e-01, 4.25098812e+00],\n",
       "       [1.27014305e+00, 1.02090906e+00, 2.55998411e-04],\n",
       "       [1.98812576e+00, 1.26439758e-01, 1.62063478e-01]])"
      ]
     },
     "execution_count": 27,
     "metadata": {},
     "output_type": "execute_result"
    }
   ],
   "source": [
    "a ** 2"
   ]
  }
 ],
 "metadata": {
  "kernelspec": {
   "display_name": "Python 3.9.12 ('base')",
   "language": "python",
   "name": "python3"
  },
  "language_info": {
   "codemirror_mode": {
    "name": "ipython",
    "version": 3
   },
   "file_extension": ".py",
   "mimetype": "text/x-python",
   "name": "python",
   "nbconvert_exporter": "python",
   "pygments_lexer": "ipython3",
   "version": "3.9.12"
  },
  "vscode": {
   "interpreter": {
    "hash": "466aa251f8755c51bf56e49f13428676aa47ee871f9274b8daebb8eeb354a2ad"
   }
  }
 },
 "nbformat": 4,
 "nbformat_minor": 5
}
